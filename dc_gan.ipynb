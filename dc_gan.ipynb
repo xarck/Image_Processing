{
 "cells": [
  {
   "cell_type": "code",
   "execution_count": null,
   "metadata": {},
   "outputs": [],
   "source": [
    "# Dataset Used https://www.kaggle.com/datasets/splcher/animefacedataset\n",
    "import torch\n",
    "import torch.nn as nn\n",
    "import torch.nn.functional as F\n",
    "from torch.utils.data import DataLoader \n",
    "from torchvision.datasets import ImageFolder\n",
    "import torchvision.transforms as T\n",
    "import matplotlib.pyplot as plt"
   ]
  },
  {
   "cell_type": "code",
   "execution_count": null,
   "metadata": {},
   "outputs": [],
   "source": [
    "DATA_DIR = '../input'\n",
    "batch_size = 128\n",
    "image_size = 64\n",
    "stats = (0.5,0.5,0.5),(0.5,0.5,0.5)"
   ]
  },
  {
   "cell_type": "code",
   "execution_count": null,
   "metadata": {},
   "outputs": [],
   "source": [
    "train_ds = ImageFolder(DATA_DIR,transform=T.Compose([\n",
    "    T.Resize(image_size),\n",
    "    T.CenterCrop(image_size),\n",
    "    T.ToTensor(),\n",
    "    T.Normalize(*stats)\n",
    "]))\n",
    "\n",
    "train_dl = DataLoader(train_ds,batch_size,num_workers=4,pin_memory=True)"
   ]
  },
  {
   "cell_type": "code",
   "execution_count": null,
   "metadata": {},
   "outputs": [],
   "source": [
    "for i,l in train_dl:\n",
    "    print(i.shape)\n",
    "    plt.imshow(i[0].permute(1,2,0))\n",
    "    break\n"
   ]
  },
  {
   "cell_type": "code",
   "execution_count": null,
   "metadata": {},
   "outputs": [],
   "source": [
    "def denorm(img_tensors):\n",
    "    return img_tensors * stats[1][0] + stats[0][0]"
   ]
  },
  {
   "cell_type": "code",
   "execution_count": null,
   "metadata": {},
   "outputs": [],
   "source": [
    "from torchvision.utils import make_grid\n",
    "def show_images(images,nmax=64):\n",
    "    fig,ax = plt.subplots(figsize=(8,8))\n",
    "    ax.set_xticks([]); ax.set_yticks([])\n",
    "    ax.imshow(make_grid(denorm(images.detach()[:nmax]),nrow=8).permute(1,2,0))\n",
    "\n",
    "def show_batch(dl,nmax=64):\n",
    "    for images,_ in dl:\n",
    "        show_images(images,nmax)\n",
    "        break;"
   ]
  },
  {
   "cell_type": "code",
   "execution_count": null,
   "metadata": {},
   "outputs": [],
   "source": [
    "device = 'cuda' if torch.cuda.is_available() else 'cpu'"
   ]
  },
  {
   "cell_type": "code",
   "execution_count": null,
   "metadata": {},
   "outputs": [],
   "source": [
    "def to_device(data,device):\n",
    "    if isinstance(data,(list,tuple)):\n",
    "        return [to_device(x) for x in data]\n",
    "    return data.to(device,non_blocking=True)\n",
    "\n",
    "class DeviceDataLoader():\n",
    "    def __init__(self,dl,device) -> None:\n",
    "        self.dl = dl\n",
    "        self.device = device \n",
    "    def __iter__(self):\n",
    "        for b in self.dl:\n",
    "            yield to_device(b,self.device)\n",
    "    def __len__(self):\n",
    "        return len(self.dl)"
   ]
  },
  {
   "cell_type": "code",
   "execution_count": null,
   "metadata": {},
   "outputs": [],
   "source": [
    "train_dl = DeviceDataLoader(train_dl,device)"
   ]
  },
  {
   "cell_type": "code",
   "execution_count": 36,
   "metadata": {},
   "outputs": [],
   "source": [
    "discriminator = nn.Sequential(\n",
    "    nn.Conv2d(3,64,kernel_size=4,stride=2,padding=1,bias=False),\n",
    "    nn.BatchNorm2d(64),\n",
    "    nn.LeakyReLU(0.2,inplace=True),\n",
    "\n",
    "    nn.Conv2d(64,128,kernel_size=4,stride=2,padding=1,bias=False),\n",
    "    nn.BatchNorm2d(128),\n",
    "    nn.LeakyReLU(0.2,inplace=True),\n",
    "    \n",
    "    nn.Conv2d(128,256,kernel_size=4,stride=2,padding=1,bias=False),\n",
    "    nn.BatchNorm2d(256),\n",
    "    nn.LeakyReLU(0.2,inplace=True),\n",
    "    \n",
    "    nn.Conv2d(256,512,kernel_size=4,stride=2,padding=1,bias=False),\n",
    "    nn.BatchNorm2d(512),\n",
    "    nn.LeakyReLU(0.2,inplace=True),\n",
    "\n",
    "    nn.Conv2d(512,1,kernel_size=4,stride=1,padding=0,bias=False),\n",
    "\n",
    "    nn.Flatten(),\n",
    "    nn.Sigmoid()\n",
    ")"
   ]
  },
  {
   "cell_type": "code",
   "execution_count": null,
   "metadata": {},
   "outputs": [],
   "source": [
    "discriminator.to(device)"
   ]
  },
  {
   "cell_type": "code",
   "execution_count": null,
   "metadata": {},
   "outputs": [],
   "source": [
    "latent_size = 128"
   ]
  },
  {
   "cell_type": "code",
   "execution_count": null,
   "metadata": {},
   "outputs": [],
   "source": [
    "generator = nn.Sequential(\n",
    "    nn.ConvTranspose2d(latent_size,512,kernel_size=4,stride=1,padding=0,bias=False),\n",
    "    nn.BatchNorm2d(512),\n",
    "    nn.ReLU(True),\n",
    "\n",
    "    nn.ConvTranspose2d(512,256,kernel_size=4,stride=2,padding=1,bias=False),\n",
    "    nn.BatchNorm2d(256),\n",
    "    nn.ReLU(True),\n",
    "    \n",
    "    nn.ConvTranspose2d(256,128,kernel_size=4,stride=2,padding=1,bias=False),\n",
    "    nn.BatchNorm2d(128),\n",
    "    nn.ReLU(True),\n",
    "\n",
    "    nn.ConvTranspose2d(128,64,kernel_size=4,stride=2,padding=1,bias=False),\n",
    "    nn.BatchNorm2d(64),\n",
    "    nn.ReLU(True),\n",
    "\n",
    "    nn.ConvTranspose2d(64,3,kernel_size=4,stride=2,padding=1,bias=False),\n",
    "    nn.Tanh()\n",
    ")"
   ]
  },
  {
   "cell_type": "code",
   "execution_count": null,
   "metadata": {},
   "outputs": [],
   "source": [
    "generator.to(device)"
   ]
  },
  {
   "cell_type": "code",
   "execution_count": null,
   "metadata": {},
   "outputs": [],
   "source": [
    "def train_discriminator(real_images,opt_d):\n",
    "    opt_d.zero_grad()\n",
    "    real_preds = discriminator(real_images)\n",
    "    real_targets = torch.ones(real_images.size(0),1,device=device)\n",
    "    real_loss = F.binary_cross_entropy(real_preds,real_targets)\n",
    "    real_score = torch.mean(real_preds).item()\n",
    "    \n",
    "    latent = torch.randn(batch_size,latent_size,1,1,device=device)\n",
    "    fake_images = generator(latent)\n",
    "\n",
    "    fake_targets = torch.zeros(fake_images.size(0),1,device=device)\n",
    "    fake_preds = discriminator(fake_images)\n",
    "    fake_loss = F.binary_cross_entropy(fake_preds,fake_targets)\n",
    "    fake_score = torch.mean(fake_preds).item()\n",
    "\n",
    "    loss = real_loss + fake_loss \n",
    "    loss.backward()\n",
    "    opt_d.step()\n",
    "    return loss.item(), real_score,fake_score"
   ]
  },
  {
   "cell_type": "code",
   "execution_count": null,
   "metadata": {},
   "outputs": [],
   "source": [
    "def train_generator(opt_g):\n",
    "    opt_g.zero_grad()\n",
    "\n",
    "    latent = torch.randn(batch_size,latent_size,1,1,device=device)\n",
    "    fake_images = generator(latent)\n",
    "\n",
    "    preds = discriminator(fake_images)\n",
    "    targets = torch.ones(batch_size,1,device=device)\n",
    "    loss = F.binary_cross_entropy(preds,targets)\n",
    "\n",
    "    loss.backward()\n",
    "    opt_g.step()\n",
    "    return loss.item()"
   ]
  },
  {
   "cell_type": "code",
   "execution_count": null,
   "metadata": {},
   "outputs": [],
   "source": [
    "from torchvision.utils import save_image\n",
    "import os\n",
    "sample_dir = 'generated'\n",
    "os.makedirs(sample_dir,exist_ok=True)"
   ]
  },
  {
   "cell_type": "code",
   "execution_count": null,
   "metadata": {},
   "outputs": [],
   "source": [
    "def save_samples(index,latent_tensors):\n",
    "    fake_images = generator(latent_tensors)\n",
    "    fake_fname = 'generated_images-{0:0=4d}.png'.format(index)\n",
    "    save_image(denorm(fake_images),os.path.join(sample_dir,fake_fname),nrow=8)\n",
    "    print('Saving Image',fake_fname)"
   ]
  },
  {
   "cell_type": "code",
   "execution_count": null,
   "metadata": {},
   "outputs": [],
   "source": [
    "fixed_latent = torch.randn(64,latent_size,1,1,device=device)"
   ]
  },
  {
   "cell_type": "code",
   "execution_count": null,
   "metadata": {},
   "outputs": [],
   "source": [
    "def fit(epochs,lr,start_idx = 1):\n",
    "    torch.cuda.empty_cache()\n",
    "\n",
    "    losses_g,losses_d,real_scores,fake_scores = [],[],[],[]\n",
    "\n",
    "    opt_d = torch.optim.Adam(discriminator.parameters(),lr=lr,betas=(0.5,0.999))\n",
    "    opt_g = torch.optim.Adam(generator.parameters(),lr=lr,betas=(0.5,0.999))\n",
    "\n",
    "    for epoch in range(epochs):\n",
    "        for real_images,_ in train_dl:\n",
    "            loss_d,real_score,fake_score = train_discriminator(real_images,opt_d)\n",
    "            loss_g = train_generator(opt_g)\n",
    "\n",
    "        losses_d.append(loss_d)\n",
    "        losses_g.append(loss_g)\n",
    "        real_scores.append(real_score)\n",
    "        fake_scores.append(fake_score)\n",
    "        print(epoch)\n",
    "        save_samples(epoch+start_idx,fixed_latent)\n",
    "\n",
    "    return losses_g,losses_d,real_scores,fake_scores"
   ]
  },
  {
   "cell_type": "code",
   "execution_count": null,
   "metadata": {},
   "outputs": [],
   "source": [
    "lr = 0.0002\n",
    "epochs = 10"
   ]
  },
  {
   "cell_type": "code",
   "execution_count": null,
   "metadata": {},
   "outputs": [],
   "source": [
    "history = fit(epochs,lr)"
   ]
  },
  {
   "cell_type": "code",
   "execution_count": 38,
   "metadata": {},
   "outputs": [
    {
     "name": "stdout",
     "output_type": "stream",
     "text": [
      "==========================================================================================\n",
      "Layer (type:depth-idx)                   Output Shape              Param #\n",
      "==========================================================================================\n",
      "├─ConvTranspose2d: 1-1                   [-1, 512, 4, 4]           1,048,576\n",
      "├─BatchNorm2d: 1-2                       [-1, 512, 4, 4]           1,024\n",
      "├─ReLU: 1-3                              [-1, 512, 4, 4]           --\n",
      "├─ConvTranspose2d: 1-4                   [-1, 256, 8, 8]           2,097,152\n",
      "├─BatchNorm2d: 1-5                       [-1, 256, 8, 8]           512\n",
      "├─ReLU: 1-6                              [-1, 256, 8, 8]           --\n",
      "├─ConvTranspose2d: 1-7                   [-1, 128, 16, 16]         524,288\n",
      "├─BatchNorm2d: 1-8                       [-1, 128, 16, 16]         256\n",
      "├─ReLU: 1-9                              [-1, 128, 16, 16]         --\n",
      "├─ConvTranspose2d: 1-10                  [-1, 64, 32, 32]          131,072\n",
      "├─BatchNorm2d: 1-11                      [-1, 64, 32, 32]          128\n",
      "├─ReLU: 1-12                             [-1, 64, 32, 32]          --\n",
      "├─ConvTranspose2d: 1-13                  [-1, 3, 64, 64]           3,072\n",
      "├─Tanh: 1-14                             [-1, 3, 64, 64]           --\n",
      "==========================================================================================\n",
      "Total params: 3,806,080\n",
      "Trainable params: 3,806,080\n",
      "Non-trainable params: 0\n",
      "Total mult-adds (M): 432.01\n",
      "==========================================================================================\n",
      "Input size (MB): 0.00\n",
      "Forward/backward pass size (MB): 1.97\n",
      "Params size (MB): 14.52\n",
      "Estimated Total Size (MB): 16.49\n",
      "==========================================================================================\n"
     ]
    },
    {
     "data": {
      "text/plain": [
       "==========================================================================================\n",
       "Layer (type:depth-idx)                   Output Shape              Param #\n",
       "==========================================================================================\n",
       "├─ConvTranspose2d: 1-1                   [-1, 512, 4, 4]           1,048,576\n",
       "├─BatchNorm2d: 1-2                       [-1, 512, 4, 4]           1,024\n",
       "├─ReLU: 1-3                              [-1, 512, 4, 4]           --\n",
       "├─ConvTranspose2d: 1-4                   [-1, 256, 8, 8]           2,097,152\n",
       "├─BatchNorm2d: 1-5                       [-1, 256, 8, 8]           512\n",
       "├─ReLU: 1-6                              [-1, 256, 8, 8]           --\n",
       "├─ConvTranspose2d: 1-7                   [-1, 128, 16, 16]         524,288\n",
       "├─BatchNorm2d: 1-8                       [-1, 128, 16, 16]         256\n",
       "├─ReLU: 1-9                              [-1, 128, 16, 16]         --\n",
       "├─ConvTranspose2d: 1-10                  [-1, 64, 32, 32]          131,072\n",
       "├─BatchNorm2d: 1-11                      [-1, 64, 32, 32]          128\n",
       "├─ReLU: 1-12                             [-1, 64, 32, 32]          --\n",
       "├─ConvTranspose2d: 1-13                  [-1, 3, 64, 64]           3,072\n",
       "├─Tanh: 1-14                             [-1, 3, 64, 64]           --\n",
       "==========================================================================================\n",
       "Total params: 3,806,080\n",
       "Trainable params: 3,806,080\n",
       "Non-trainable params: 0\n",
       "Total mult-adds (M): 432.01\n",
       "==========================================================================================\n",
       "Input size (MB): 0.00\n",
       "Forward/backward pass size (MB): 1.97\n",
       "Params size (MB): 14.52\n",
       "Estimated Total Size (MB): 16.49\n",
       "=========================================================================================="
      ]
     },
     "execution_count": 38,
     "metadata": {},
     "output_type": "execute_result"
    }
   ],
   "source": [
    "from torchsummary import summary\n",
    "summary(generator,(128,1,1))"
   ]
  }
 ],
 "metadata": {
  "kernelspec": {
   "display_name": "Python 3.9.0 64-bit",
   "language": "python",
   "name": "python3"
  },
  "language_info": {
   "codemirror_mode": {
    "name": "ipython",
    "version": 3
   },
   "file_extension": ".py",
   "mimetype": "text/x-python",
   "name": "python",
   "nbconvert_exporter": "python",
   "pygments_lexer": "ipython3",
   "version": "3.9.0"
  },
  "orig_nbformat": 4,
  "vscode": {
   "interpreter": {
    "hash": "e665b74af24a49631f040b8b7c1cdf816c9acaf2f58bbe39260df961067cd65f"
   }
  }
 },
 "nbformat": 4,
 "nbformat_minor": 2
}
